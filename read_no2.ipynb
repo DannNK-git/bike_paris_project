{
 "cells": [
  {
   "cell_type": "markdown",
   "metadata": {},
   "source": [
    "### Import data"
   ]
  },
  {
   "cell_type": "code",
   "execution_count": 123,
   "metadata": {},
   "outputs": [],
   "source": [
    "import pandas as pd\n",
    "\n",
    "file= pd.read_csv(\"C:/Users/Administrateur/Desktop/mes_idfno2.csv\",encoding= 'unicode_escape',delimiter=\";\",parse_dates=True)"
   ]
  },
  {
   "cell_type": "code",
   "execution_count": 124,
   "metadata": {},
   "outputs": [
    {
     "data": {
      "text/html": [
       "<div>\n",
       "<style scoped>\n",
       "    .dataframe tbody tr th:only-of-type {\n",
       "        vertical-align: middle;\n",
       "    }\n",
       "\n",
       "    .dataframe tbody tr th {\n",
       "        vertical-align: top;\n",
       "    }\n",
       "\n",
       "    .dataframe thead th {\n",
       "        text-align: right;\n",
       "    }\n",
       "</style>\n",
       "<table border=\"1\" class=\"dataframe\">\n",
       "  <thead>\n",
       "    <tr style=\"text-align: right;\">\n",
       "      <th></th>\n",
       "      <th>id</th>\n",
       "      <th>nom_dept</th>\n",
       "      <th>nom_com</th>\n",
       "      <th>id_com</th>\n",
       "      <th>nom_statio</th>\n",
       "      <th>code_stati</th>\n",
       "      <th>typologie</th>\n",
       "      <th>nom_poll</th>\n",
       "      <th>id_poll_ue</th>\n",
       "      <th>valeur</th>\n",
       "      <th>unite</th>\n",
       "      <th>metrique</th>\n",
       "      <th>date_debut</th>\n",
       "      <th>date_fin</th>\n",
       "      <th>statut_val</th>\n",
       "      <th>x</th>\n",
       "      <th>y</th>\n",
       "    </tr>\n",
       "  </thead>\n",
       "  <tbody>\n",
       "    <tr>\n",
       "      <th>0</th>\n",
       "      <td>1</td>\n",
       "      <td>PARIS</td>\n",
       "      <td>PARIS-6E-ARRONDISSEMENT</td>\n",
       "      <td>75106</td>\n",
       "      <td>Rue Bonaparte</td>\n",
       "      <td>4071</td>\n",
       "      <td>Trafic</td>\n",
       "      <td>NO2</td>\n",
       "      <td>8</td>\n",
       "      <td>73,000000000000000</td>\n",
       "      <td>ug.m-3</td>\n",
       "      <td>horaire</td>\n",
       "      <td>18/09/2017</td>\n",
       "      <td>18/09/2017</td>\n",
       "      <td>1</td>\n",
       "      <td>651166</td>\n",
       "      <td>6862011</td>\n",
       "    </tr>\n",
       "    <tr>\n",
       "      <th>1</th>\n",
       "      <td>2</td>\n",
       "      <td>PARIS</td>\n",
       "      <td>PARIS-6E-ARRONDISSEMENT</td>\n",
       "      <td>75106</td>\n",
       "      <td>Rue Bonaparte</td>\n",
       "      <td>4071</td>\n",
       "      <td>Trafic</td>\n",
       "      <td>NO2</td>\n",
       "      <td>8</td>\n",
       "      <td>57,000000000000000</td>\n",
       "      <td>ug.m-3</td>\n",
       "      <td>horaire</td>\n",
       "      <td>18/09/2017</td>\n",
       "      <td>18/09/2017</td>\n",
       "      <td>1</td>\n",
       "      <td>651166</td>\n",
       "      <td>6862011</td>\n",
       "    </tr>\n",
       "    <tr>\n",
       "      <th>2</th>\n",
       "      <td>3</td>\n",
       "      <td>PARIS</td>\n",
       "      <td>PARIS-6E-ARRONDISSEMENT</td>\n",
       "      <td>75106</td>\n",
       "      <td>Rue Bonaparte</td>\n",
       "      <td>4071</td>\n",
       "      <td>Trafic</td>\n",
       "      <td>NO2</td>\n",
       "      <td>8</td>\n",
       "      <td>65,000000000000000</td>\n",
       "      <td>ug.m-3</td>\n",
       "      <td>horaire</td>\n",
       "      <td>18/09/2017</td>\n",
       "      <td>18/09/2017</td>\n",
       "      <td>1</td>\n",
       "      <td>651166</td>\n",
       "      <td>6862011</td>\n",
       "    </tr>\n",
       "    <tr>\n",
       "      <th>3</th>\n",
       "      <td>4</td>\n",
       "      <td>PARIS</td>\n",
       "      <td>PARIS-6E-ARRONDISSEMENT</td>\n",
       "      <td>75106</td>\n",
       "      <td>Rue Bonaparte</td>\n",
       "      <td>4071</td>\n",
       "      <td>Trafic</td>\n",
       "      <td>NO2</td>\n",
       "      <td>8</td>\n",
       "      <td>81,000000000000000</td>\n",
       "      <td>ug.m-3</td>\n",
       "      <td>horaire</td>\n",
       "      <td>18/09/2017</td>\n",
       "      <td>18/09/2017</td>\n",
       "      <td>1</td>\n",
       "      <td>651166</td>\n",
       "      <td>6862011</td>\n",
       "    </tr>\n",
       "    <tr>\n",
       "      <th>4</th>\n",
       "      <td>5</td>\n",
       "      <td>PARIS</td>\n",
       "      <td>PARIS-6E-ARRONDISSEMENT</td>\n",
       "      <td>75106</td>\n",
       "      <td>Rue Bonaparte</td>\n",
       "      <td>4071</td>\n",
       "      <td>Trafic</td>\n",
       "      <td>NO2</td>\n",
       "      <td>8</td>\n",
       "      <td>74,000000000000000</td>\n",
       "      <td>ug.m-3</td>\n",
       "      <td>horaire</td>\n",
       "      <td>18/09/2017</td>\n",
       "      <td>18/09/2017</td>\n",
       "      <td>1</td>\n",
       "      <td>651166</td>\n",
       "      <td>6862011</td>\n",
       "    </tr>\n",
       "  </tbody>\n",
       "</table>\n",
       "</div>"
      ],
      "text/plain": [
       "   id nom_dept                  nom_com  id_com     nom_statio  code_stati  \\\n",
       "0   1    PARIS  PARIS-6E-ARRONDISSEMENT   75106  Rue Bonaparte        4071   \n",
       "1   2    PARIS  PARIS-6E-ARRONDISSEMENT   75106  Rue Bonaparte        4071   \n",
       "2   3    PARIS  PARIS-6E-ARRONDISSEMENT   75106  Rue Bonaparte        4071   \n",
       "3   4    PARIS  PARIS-6E-ARRONDISSEMENT   75106  Rue Bonaparte        4071   \n",
       "4   5    PARIS  PARIS-6E-ARRONDISSEMENT   75106  Rue Bonaparte        4071   \n",
       "\n",
       "  typologie nom_poll  id_poll_ue              valeur   unite metrique  \\\n",
       "0    Trafic      NO2           8  73,000000000000000  ug.m-3  horaire   \n",
       "1    Trafic      NO2           8  57,000000000000000  ug.m-3  horaire   \n",
       "2    Trafic      NO2           8  65,000000000000000  ug.m-3  horaire   \n",
       "3    Trafic      NO2           8  81,000000000000000  ug.m-3  horaire   \n",
       "4    Trafic      NO2           8  74,000000000000000  ug.m-3  horaire   \n",
       "\n",
       "   date_debut    date_fin  statut_val       x        y  \n",
       "0  18/09/2017  18/09/2017           1  651166  6862011  \n",
       "1  18/09/2017  18/09/2017           1  651166  6862011  \n",
       "2  18/09/2017  18/09/2017           1  651166  6862011  \n",
       "3  18/09/2017  18/09/2017           1  651166  6862011  \n",
       "4  18/09/2017  18/09/2017           1  651166  6862011  "
      ]
     },
     "execution_count": 124,
     "metadata": {},
     "output_type": "execute_result"
    }
   ],
   "source": [
    "file.head()"
   ]
  },
  {
   "cell_type": "markdown",
   "metadata": {},
   "source": [
    "### select columns"
   ]
  },
  {
   "cell_type": "code",
   "execution_count": 125,
   "metadata": {},
   "outputs": [
    {
     "data": {
      "text/html": [
       "<div>\n",
       "<style scoped>\n",
       "    .dataframe tbody tr th:only-of-type {\n",
       "        vertical-align: middle;\n",
       "    }\n",
       "\n",
       "    .dataframe tbody tr th {\n",
       "        vertical-align: top;\n",
       "    }\n",
       "\n",
       "    .dataframe thead th {\n",
       "        text-align: right;\n",
       "    }\n",
       "</style>\n",
       "<table border=\"1\" class=\"dataframe\">\n",
       "  <thead>\n",
       "    <tr style=\"text-align: right;\">\n",
       "      <th></th>\n",
       "      <th>nom_dept</th>\n",
       "      <th>nom_com</th>\n",
       "      <th>id_com</th>\n",
       "      <th>valeur</th>\n",
       "      <th>date_debut</th>\n",
       "      <th>date_fin</th>\n",
       "    </tr>\n",
       "  </thead>\n",
       "  <tbody>\n",
       "    <tr>\n",
       "      <th>0</th>\n",
       "      <td>PARIS</td>\n",
       "      <td>PARIS-6E-ARRONDISSEMENT</td>\n",
       "      <td>75106</td>\n",
       "      <td>73,000000000000000</td>\n",
       "      <td>18/09/2017</td>\n",
       "      <td>18/09/2017</td>\n",
       "    </tr>\n",
       "    <tr>\n",
       "      <th>1</th>\n",
       "      <td>PARIS</td>\n",
       "      <td>PARIS-6E-ARRONDISSEMENT</td>\n",
       "      <td>75106</td>\n",
       "      <td>57,000000000000000</td>\n",
       "      <td>18/09/2017</td>\n",
       "      <td>18/09/2017</td>\n",
       "    </tr>\n",
       "    <tr>\n",
       "      <th>2</th>\n",
       "      <td>PARIS</td>\n",
       "      <td>PARIS-6E-ARRONDISSEMENT</td>\n",
       "      <td>75106</td>\n",
       "      <td>65,000000000000000</td>\n",
       "      <td>18/09/2017</td>\n",
       "      <td>18/09/2017</td>\n",
       "    </tr>\n",
       "    <tr>\n",
       "      <th>3</th>\n",
       "      <td>PARIS</td>\n",
       "      <td>PARIS-6E-ARRONDISSEMENT</td>\n",
       "      <td>75106</td>\n",
       "      <td>81,000000000000000</td>\n",
       "      <td>18/09/2017</td>\n",
       "      <td>18/09/2017</td>\n",
       "    </tr>\n",
       "    <tr>\n",
       "      <th>4</th>\n",
       "      <td>PARIS</td>\n",
       "      <td>PARIS-6E-ARRONDISSEMENT</td>\n",
       "      <td>75106</td>\n",
       "      <td>74,000000000000000</td>\n",
       "      <td>18/09/2017</td>\n",
       "      <td>18/09/2017</td>\n",
       "    </tr>\n",
       "  </tbody>\n",
       "</table>\n",
       "</div>"
      ],
      "text/plain": [
       "  nom_dept                  nom_com  id_com              valeur  date_debut  \\\n",
       "0    PARIS  PARIS-6E-ARRONDISSEMENT   75106  73,000000000000000  18/09/2017   \n",
       "1    PARIS  PARIS-6E-ARRONDISSEMENT   75106  57,000000000000000  18/09/2017   \n",
       "2    PARIS  PARIS-6E-ARRONDISSEMENT   75106  65,000000000000000  18/09/2017   \n",
       "3    PARIS  PARIS-6E-ARRONDISSEMENT   75106  81,000000000000000  18/09/2017   \n",
       "4    PARIS  PARIS-6E-ARRONDISSEMENT   75106  74,000000000000000  18/09/2017   \n",
       "\n",
       "     date_fin  \n",
       "0  18/09/2017  \n",
       "1  18/09/2017  \n",
       "2  18/09/2017  \n",
       "3  18/09/2017  \n",
       "4  18/09/2017  "
      ]
     },
     "execution_count": 125,
     "metadata": {},
     "output_type": "execute_result"
    }
   ],
   "source": [
    "file_no2=file[[\"nom_dept\",\"nom_com\",\"id_com\",\"valeur\",\"date_debut\",\"date_fin\"]]\n",
    "file_no2.head()"
   ]
  },
  {
   "cell_type": "markdown",
   "metadata": {},
   "source": [
    "### Show district"
   ]
  },
  {
   "cell_type": "code",
   "execution_count": 126,
   "metadata": {},
   "outputs": [
    {
     "data": {
      "text/plain": [
       "78646    26727\n",
       "94081    26465\n",
       "77258    26458\n",
       "95088    26404\n",
       "95277    26404\n",
       "93073    26384\n",
       "95633    26332\n",
       "95612    26308\n",
       "92036    26239\n",
       "75106    26116\n",
       "75112    25930\n",
       "91228    25784\n",
       "93066    25559\n",
       "75115    24715\n",
       "75102    24705\n",
       "75104    16770\n",
       "Name: id_com, dtype: int64"
      ]
     },
     "execution_count": 126,
     "metadata": {},
     "output_type": "execute_result"
    }
   ],
   "source": [
    "file_no2[\"id_com\"].value_counts()"
   ]
  },
  {
   "cell_type": "code",
   "execution_count": 127,
   "metadata": {},
   "outputs": [
    {
     "data": {
      "text/plain": [
       "PARIS                118236\n",
       "VAL-D'OISE           105448\n",
       "SEINE-SAINT-DENIS     51943\n",
       "YVELINES              26727\n",
       "VAL-DE-MARNE          26465\n",
       "SEINE-ET-MARNE        26458\n",
       "HAUTS-DE-SEINE        26239\n",
       "ESSONNE               25784\n",
       "Name: nom_dept, dtype: int64"
      ]
     },
     "execution_count": 127,
     "metadata": {},
     "output_type": "execute_result"
    }
   ],
   "source": [
    "file_no2[\"nom_dept\"].value_counts()"
   ]
  },
  {
   "cell_type": "markdown",
   "metadata": {},
   "source": [
    "### Select Paris districs"
   ]
  },
  {
   "cell_type": "code",
   "execution_count": 128,
   "metadata": {},
   "outputs": [],
   "source": [
    "file_no2=file_no2[file_no2[\"nom_dept\"]==\"PARIS\"]"
   ]
  },
  {
   "cell_type": "code",
   "execution_count": 129,
   "metadata": {},
   "outputs": [
    {
     "data": {
      "text/plain": [
       "PARIS    118236\n",
       "Name: nom_dept, dtype: int64"
      ]
     },
     "execution_count": 129,
     "metadata": {},
     "output_type": "execute_result"
    }
   ],
   "source": [
    "file_no2[\"nom_dept\"].value_counts()"
   ]
  },
  {
   "cell_type": "code",
   "execution_count": 130,
   "metadata": {},
   "outputs": [
    {
     "data": {
      "text/plain": [
       "75106    26116\n",
       "75112    25930\n",
       "75115    24715\n",
       "75102    24705\n",
       "75104    16770\n",
       "Name: id_com, dtype: int64"
      ]
     },
     "execution_count": 130,
     "metadata": {},
     "output_type": "execute_result"
    }
   ],
   "source": [
    "file_no2[\"id_com\"].value_counts()"
   ]
  },
  {
   "cell_type": "code",
   "execution_count": 131,
   "metadata": {},
   "outputs": [
    {
     "data": {
      "text/html": [
       "<div>\n",
       "<style scoped>\n",
       "    .dataframe tbody tr th:only-of-type {\n",
       "        vertical-align: middle;\n",
       "    }\n",
       "\n",
       "    .dataframe tbody tr th {\n",
       "        vertical-align: top;\n",
       "    }\n",
       "\n",
       "    .dataframe thead th {\n",
       "        text-align: right;\n",
       "    }\n",
       "</style>\n",
       "<table border=\"1\" class=\"dataframe\">\n",
       "  <thead>\n",
       "    <tr style=\"text-align: right;\">\n",
       "      <th></th>\n",
       "      <th>id_com</th>\n",
       "      <th>valeur</th>\n",
       "      <th>date_fin</th>\n",
       "    </tr>\n",
       "  </thead>\n",
       "  <tbody>\n",
       "    <tr>\n",
       "      <th>0</th>\n",
       "      <td>75106</td>\n",
       "      <td>73,000000000000000</td>\n",
       "      <td>18/09/2017</td>\n",
       "    </tr>\n",
       "    <tr>\n",
       "      <th>1</th>\n",
       "      <td>75106</td>\n",
       "      <td>57,000000000000000</td>\n",
       "      <td>18/09/2017</td>\n",
       "    </tr>\n",
       "    <tr>\n",
       "      <th>2</th>\n",
       "      <td>75106</td>\n",
       "      <td>65,000000000000000</td>\n",
       "      <td>18/09/2017</td>\n",
       "    </tr>\n",
       "    <tr>\n",
       "      <th>3</th>\n",
       "      <td>75106</td>\n",
       "      <td>81,000000000000000</td>\n",
       "      <td>18/09/2017</td>\n",
       "    </tr>\n",
       "    <tr>\n",
       "      <th>4</th>\n",
       "      <td>75106</td>\n",
       "      <td>74,000000000000000</td>\n",
       "      <td>18/09/2017</td>\n",
       "    </tr>\n",
       "  </tbody>\n",
       "</table>\n",
       "</div>"
      ],
      "text/plain": [
       "   id_com              valeur    date_fin\n",
       "0   75106  73,000000000000000  18/09/2017\n",
       "1   75106  57,000000000000000  18/09/2017\n",
       "2   75106  65,000000000000000  18/09/2017\n",
       "3   75106  81,000000000000000  18/09/2017\n",
       "4   75106  74,000000000000000  18/09/2017"
      ]
     },
     "execution_count": 131,
     "metadata": {},
     "output_type": "execute_result"
    }
   ],
   "source": [
    "#\n",
    "file_no2=file[[\"id_com\",\"valeur\",\"date_fin\"]]\n",
    "file_no2.head()"
   ]
  },
  {
   "cell_type": "markdown",
   "metadata": {},
   "source": [
    "### format number of traffic (value)"
   ]
  },
  {
   "cell_type": "code",
   "execution_count": 132,
   "metadata": {},
   "outputs": [
    {
     "name": "stderr",
     "output_type": "stream",
     "text": [
      "<ipython-input-132-7948bfc1ac29>:1: SettingWithCopyWarning: \n",
      "A value is trying to be set on a copy of a slice from a DataFrame.\n",
      "Try using .loc[row_indexer,col_indexer] = value instead\n",
      "\n",
      "See the caveats in the documentation: https://pandas.pydata.org/pandas-docs/stable/user_guide/indexing.html#returning-a-view-versus-a-copy\n",
      "  file_no2[\"valeur\"]=file_no2[\"valeur\"].apply(lambda x:x.split(\",\")[0])\n"
     ]
    }
   ],
   "source": [
    "file_no2[\"valeur\"]=file_no2[\"valeur\"].apply(lambda x:x.split(\",\")[0])"
   ]
  },
  {
   "cell_type": "markdown",
   "metadata": {},
   "source": [
    "### format date"
   ]
  },
  {
   "cell_type": "code",
   "execution_count": 133,
   "metadata": {},
   "outputs": [
    {
     "name": "stderr",
     "output_type": "stream",
     "text": [
      "<ipython-input-133-ff4981babbd5>:1: SettingWithCopyWarning: \n",
      "A value is trying to be set on a copy of a slice from a DataFrame.\n",
      "Try using .loc[row_indexer,col_indexer] = value instead\n",
      "\n",
      "See the caveats in the documentation: https://pandas.pydata.org/pandas-docs/stable/user_guide/indexing.html#returning-a-view-versus-a-copy\n",
      "  file_no2['date_fin']=pd.to_datetime(file_no2['date_fin'].astype(str), format='%d/%m/%Y')\n"
     ]
    }
   ],
   "source": [
    "file_no2['date_fin']=pd.to_datetime(file_no2['date_fin'].astype(str), format='%d/%m/%Y')"
   ]
  },
  {
   "cell_type": "code",
   "execution_count": 134,
   "metadata": {},
   "outputs": [
    {
     "data": {
      "text/html": [
       "<div>\n",
       "<style scoped>\n",
       "    .dataframe tbody tr th:only-of-type {\n",
       "        vertical-align: middle;\n",
       "    }\n",
       "\n",
       "    .dataframe tbody tr th {\n",
       "        vertical-align: top;\n",
       "    }\n",
       "\n",
       "    .dataframe thead th {\n",
       "        text-align: right;\n",
       "    }\n",
       "</style>\n",
       "<table border=\"1\" class=\"dataframe\">\n",
       "  <thead>\n",
       "    <tr style=\"text-align: right;\">\n",
       "      <th></th>\n",
       "      <th>zip_code</th>\n",
       "      <th>no2</th>\n",
       "      <th>date</th>\n",
       "    </tr>\n",
       "  </thead>\n",
       "  <tbody>\n",
       "    <tr>\n",
       "      <th>407295</th>\n",
       "      <td>92036</td>\n",
       "      <td>19</td>\n",
       "      <td>2020-11-19</td>\n",
       "    </tr>\n",
       "    <tr>\n",
       "      <th>407296</th>\n",
       "      <td>92036</td>\n",
       "      <td>24</td>\n",
       "      <td>2020-11-19</td>\n",
       "    </tr>\n",
       "    <tr>\n",
       "      <th>407297</th>\n",
       "      <td>92036</td>\n",
       "      <td>21</td>\n",
       "      <td>2020-11-19</td>\n",
       "    </tr>\n",
       "    <tr>\n",
       "      <th>407298</th>\n",
       "      <td>92036</td>\n",
       "      <td>14</td>\n",
       "      <td>2020-11-19</td>\n",
       "    </tr>\n",
       "    <tr>\n",
       "      <th>407299</th>\n",
       "      <td>92036</td>\n",
       "      <td>10</td>\n",
       "      <td>2020-11-19</td>\n",
       "    </tr>\n",
       "  </tbody>\n",
       "</table>\n",
       "</div>"
      ],
      "text/plain": [
       "        zip_code no2       date\n",
       "407295     92036  19 2020-11-19\n",
       "407296     92036  24 2020-11-19\n",
       "407297     92036  21 2020-11-19\n",
       "407298     92036  14 2020-11-19\n",
       "407299     92036  10 2020-11-19"
      ]
     },
     "execution_count": 134,
     "metadata": {},
     "output_type": "execute_result"
    }
   ],
   "source": [
    "file_no2.columns=['zip_code','no2',\"date\"]\n",
    "file_no2.tail()"
   ]
  },
  {
   "cell_type": "markdown",
   "metadata": {},
   "source": [
    "### Select date between 01/10/2019 to 19/11/2020"
   ]
  },
  {
   "cell_type": "code",
   "execution_count": 135,
   "metadata": {},
   "outputs": [
    {
     "data": {
      "text/plain": [
       "(407300, 3)"
      ]
     },
     "execution_count": 135,
     "metadata": {},
     "output_type": "execute_result"
    }
   ],
   "source": [
    "file_no2.shape"
   ]
  },
  {
   "cell_type": "code",
   "execution_count": 136,
   "metadata": {},
   "outputs": [
    {
     "data": {
      "text/plain": [
       "Timestamp('2020-11-19 00:00:00')"
      ]
     },
     "execution_count": 136,
     "metadata": {},
     "output_type": "execute_result"
    }
   ],
   "source": [
    "file_no2[\"date\"].max()"
   ]
  },
  {
   "cell_type": "code",
   "execution_count": 137,
   "metadata": {},
   "outputs": [
    {
     "data": {
      "text/plain": [
       "Timestamp('2017-09-18 00:00:00')"
      ]
     },
     "execution_count": 137,
     "metadata": {},
     "output_type": "execute_result"
    }
   ],
   "source": [
    "file_no2[\"date\"].min()"
   ]
  },
  {
   "cell_type": "code",
   "execution_count": 138,
   "metadata": {},
   "outputs": [],
   "source": [
    "df=file_no2[file_no2[\"date\"]>=\"01/10/2019\"]"
   ]
  },
  {
   "cell_type": "code",
   "execution_count": 139,
   "metadata": {},
   "outputs": [
    {
     "data": {
      "text/plain": [
       "(230939, 3)"
      ]
     },
     "execution_count": 139,
     "metadata": {},
     "output_type": "execute_result"
    }
   ],
   "source": [
    "df.shape"
   ]
  },
  {
   "cell_type": "code",
   "execution_count": 140,
   "metadata": {},
   "outputs": [
    {
     "data": {
      "text/plain": [
       "Timestamp('2020-11-19 00:00:00')"
      ]
     },
     "execution_count": 140,
     "metadata": {},
     "output_type": "execute_result"
    }
   ],
   "source": [
    "df[\"date\"].max()"
   ]
  },
  {
   "cell_type": "code",
   "execution_count": 141,
   "metadata": {},
   "outputs": [
    {
     "data": {
      "text/plain": [
       "Timestamp('2019-01-10 00:00:00')"
      ]
     },
     "execution_count": 141,
     "metadata": {},
     "output_type": "execute_result"
    }
   ],
   "source": [
    "df[\"date\"].min()"
   ]
  },
  {
   "cell_type": "code",
   "execution_count": 142,
   "metadata": {},
   "outputs": [],
   "source": [
    "df.to_csv(\"C:/Users/Administrateur/Documents/bike_project/pollution_no2.csv\", sep=\";\", encoding=\"utf-8\")"
   ]
  },
  {
   "cell_type": "code",
   "execution_count": null,
   "metadata": {},
   "outputs": [],
   "source": []
  },
  {
   "cell_type": "markdown",
   "metadata": {},
   "source": [
    "### exemple final csv"
   ]
  },
  {
   "cell_type": "code",
   "execution_count": 151,
   "metadata": {},
   "outputs": [
    {
     "data": {
      "text/html": [
       "<div>\n",
       "<style scoped>\n",
       "    .dataframe tbody tr th:only-of-type {\n",
       "        vertical-align: middle;\n",
       "    }\n",
       "\n",
       "    .dataframe tbody tr th {\n",
       "        vertical-align: top;\n",
       "    }\n",
       "\n",
       "    .dataframe thead th {\n",
       "        text-align: right;\n",
       "    }\n",
       "</style>\n",
       "<table border=\"1\" class=\"dataframe\">\n",
       "  <thead>\n",
       "    <tr style=\"text-align: right;\">\n",
       "      <th></th>\n",
       "      <th>zip_code</th>\n",
       "      <th>no2</th>\n",
       "      <th>date</th>\n",
       "    </tr>\n",
       "  </thead>\n",
       "  <tbody>\n",
       "    <tr>\n",
       "      <th>407295</th>\n",
       "      <td>92036</td>\n",
       "      <td>19</td>\n",
       "      <td>2020-11-19</td>\n",
       "    </tr>\n",
       "    <tr>\n",
       "      <th>407296</th>\n",
       "      <td>92036</td>\n",
       "      <td>24</td>\n",
       "      <td>2020-11-19</td>\n",
       "    </tr>\n",
       "    <tr>\n",
       "      <th>407297</th>\n",
       "      <td>92036</td>\n",
       "      <td>21</td>\n",
       "      <td>2020-11-19</td>\n",
       "    </tr>\n",
       "    <tr>\n",
       "      <th>407298</th>\n",
       "      <td>92036</td>\n",
       "      <td>14</td>\n",
       "      <td>2020-11-19</td>\n",
       "    </tr>\n",
       "    <tr>\n",
       "      <th>407299</th>\n",
       "      <td>92036</td>\n",
       "      <td>10</td>\n",
       "      <td>2020-11-19</td>\n",
       "    </tr>\n",
       "  </tbody>\n",
       "</table>\n",
       "</div>"
      ],
      "text/plain": [
       "        zip_code  no2        date\n",
       "407295     92036   19  2020-11-19\n",
       "407296     92036   24  2020-11-19\n",
       "407297     92036   21  2020-11-19\n",
       "407298     92036   14  2020-11-19\n",
       "407299     92036   10  2020-11-19"
      ]
     },
     "execution_count": 151,
     "metadata": {},
     "output_type": "execute_result"
    }
   ],
   "source": [
    "# save dataset to csv \n",
    "df=pd.read_csv(\"C:/Users/Administrateur/Documents/bike_project/pollution_no2.csv\", delimiter=\";\",index_col=0)\n",
    "df.tail()"
   ]
  },
  {
   "cell_type": "code",
   "execution_count": 152,
   "metadata": {},
   "outputs": [
    {
     "data": {
      "text/plain": [
       "95088    15538\n",
       "95277    15538\n",
       "95633    15466\n",
       "95612    15442\n",
       "78646    15410\n",
       "92036    15290\n",
       "93073    15246\n",
       "94081    15191\n",
       "77258    15180\n",
       "75112    15002\n",
       "75106    14926\n",
       "93066    14579\n",
       "91228    14436\n",
       "75115    14120\n",
       "75102    14073\n",
       "75104     5502\n",
       "Name: zip_code, dtype: int64"
      ]
     },
     "execution_count": 152,
     "metadata": {},
     "output_type": "execute_result"
    }
   ],
   "source": [
    "df[\"zip_code\"].value_counts()"
   ]
  },
  {
   "cell_type": "markdown",
   "metadata": {},
   "source": [
    "### format zip code"
   ]
  },
  {
   "cell_type": "code",
   "execution_count": 153,
   "metadata": {},
   "outputs": [],
   "source": [
    "df[\"zip_code\"]=df[\"zip_code\"].apply(lambda x:str(x))"
   ]
  },
  {
   "cell_type": "code",
   "execution_count": 155,
   "metadata": {},
   "outputs": [],
   "source": [
    "df[\"zip_code\"]=df[\"zip_code\"].apply(lambda x:\"7500\"+x[-1])"
   ]
  },
  {
   "cell_type": "code",
   "execution_count": 156,
   "metadata": {},
   "outputs": [
    {
     "data": {
      "text/html": [
       "<div>\n",
       "<style scoped>\n",
       "    .dataframe tbody tr th:only-of-type {\n",
       "        vertical-align: middle;\n",
       "    }\n",
       "\n",
       "    .dataframe tbody tr th {\n",
       "        vertical-align: top;\n",
       "    }\n",
       "\n",
       "    .dataframe thead th {\n",
       "        text-align: right;\n",
       "    }\n",
       "</style>\n",
       "<table border=\"1\" class=\"dataframe\">\n",
       "  <thead>\n",
       "    <tr style=\"text-align: right;\">\n",
       "      <th></th>\n",
       "      <th>zip_code</th>\n",
       "      <th>no2</th>\n",
       "      <th>date</th>\n",
       "    </tr>\n",
       "  </thead>\n",
       "  <tbody>\n",
       "    <tr>\n",
       "      <th>176151</th>\n",
       "      <td>75006</td>\n",
       "      <td>31</td>\n",
       "      <td>2019-01-10</td>\n",
       "    </tr>\n",
       "    <tr>\n",
       "      <th>176152</th>\n",
       "      <td>75006</td>\n",
       "      <td>28</td>\n",
       "      <td>2019-01-10</td>\n",
       "    </tr>\n",
       "    <tr>\n",
       "      <th>176153</th>\n",
       "      <td>75006</td>\n",
       "      <td>27</td>\n",
       "      <td>2019-01-10</td>\n",
       "    </tr>\n",
       "    <tr>\n",
       "      <th>176154</th>\n",
       "      <td>75006</td>\n",
       "      <td>27</td>\n",
       "      <td>2019-01-10</td>\n",
       "    </tr>\n",
       "    <tr>\n",
       "      <th>176155</th>\n",
       "      <td>75006</td>\n",
       "      <td>36</td>\n",
       "      <td>2019-01-10</td>\n",
       "    </tr>\n",
       "  </tbody>\n",
       "</table>\n",
       "</div>"
      ],
      "text/plain": [
       "       zip_code  no2        date\n",
       "176151    75006   31  2019-01-10\n",
       "176152    75006   28  2019-01-10\n",
       "176153    75006   27  2019-01-10\n",
       "176154    75006   27  2019-01-10\n",
       "176155    75006   36  2019-01-10"
      ]
     },
     "execution_count": 156,
     "metadata": {},
     "output_type": "execute_result"
    }
   ],
   "source": [
    "df[\"zip_code\"]=df[\"zip_code\"].apply(lambda x:\"750\"+ x[3:5])\n",
    "#file_adresse1[\"zip_code\"]=file_adresse1[\"C_AR\"].apply(lambda x:int(x)+75000)\n",
    "df.head()"
   ]
  },
  {
   "cell_type": "code",
   "execution_count": 157,
   "metadata": {},
   "outputs": [
    {
     "data": {
      "text/plain": [
       "75006    60205\n",
       "75008    45154\n",
       "75002    44517\n",
       "75003    30712\n",
       "75007    15538\n",
       "75001    15191\n",
       "75005    14120\n",
       "75004     5502\n",
       "Name: zip_code, dtype: int64"
      ]
     },
     "execution_count": 157,
     "metadata": {},
     "output_type": "execute_result"
    }
   ],
   "source": [
    "df[\"zip_code\"].value_counts()"
   ]
  },
  {
   "cell_type": "markdown",
   "metadata": {},
   "source": [
    "### GroupBY"
   ]
  },
  {
   "cell_type": "code",
   "execution_count": 148,
   "metadata": {},
   "outputs": [],
   "source": [
    "df[\"no2\"]=df[\"no2\"].apply(lambda x:int(x))"
   ]
  },
  {
   "cell_type": "code",
   "execution_count": null,
   "metadata": {},
   "outputs": [],
   "source": []
  }
 ],
 "metadata": {
  "kernelspec": {
   "display_name": "Python 3",
   "language": "python",
   "name": "python3"
  },
  "language_info": {
   "codemirror_mode": {
    "name": "ipython",
    "version": 3
   },
   "file_extension": ".py",
   "mimetype": "text/x-python",
   "name": "python",
   "nbconvert_exporter": "python",
   "pygments_lexer": "ipython3",
   "version": "3.8.3"
  }
 },
 "nbformat": 4,
 "nbformat_minor": 4
}
