{
 "cells": [
  {
   "cell_type": "code",
   "execution_count": 3,
   "metadata": {},
   "outputs": [],
   "source": [
    "import pandas as pd\n",
    "\n",
    "file= pd.read_csv(\"C:/Users/Administrateur/Desktop/mes_idfno2.csv\",encoding= 'unicode_escape',delimiter=\";\")"
   ]
  },
  {
   "cell_type": "code",
   "execution_count": 4,
   "metadata": {},
   "outputs": [
    {
     "data": {
      "text/html": [
       "<div>\n",
       "<style scoped>\n",
       "    .dataframe tbody tr th:only-of-type {\n",
       "        vertical-align: middle;\n",
       "    }\n",
       "\n",
       "    .dataframe tbody tr th {\n",
       "        vertical-align: top;\n",
       "    }\n",
       "\n",
       "    .dataframe thead th {\n",
       "        text-align: right;\n",
       "    }\n",
       "</style>\n",
       "<table border=\"1\" class=\"dataframe\">\n",
       "  <thead>\n",
       "    <tr style=\"text-align: right;\">\n",
       "      <th></th>\n",
       "      <th>id</th>\n",
       "      <th>nom_dept</th>\n",
       "      <th>nom_com</th>\n",
       "      <th>id_com</th>\n",
       "      <th>nom_statio</th>\n",
       "      <th>code_stati</th>\n",
       "      <th>typologie</th>\n",
       "      <th>nom_poll</th>\n",
       "      <th>id_poll_ue</th>\n",
       "      <th>valeur</th>\n",
       "      <th>unite</th>\n",
       "      <th>metrique</th>\n",
       "      <th>date_debut</th>\n",
       "      <th>date_fin</th>\n",
       "      <th>statut_val</th>\n",
       "      <th>x</th>\n",
       "      <th>y</th>\n",
       "    </tr>\n",
       "  </thead>\n",
       "  <tbody>\n",
       "    <tr>\n",
       "      <th>0</th>\n",
       "      <td>1</td>\n",
       "      <td>PARIS</td>\n",
       "      <td>PARIS-6E-ARRONDISSEMENT</td>\n",
       "      <td>75106</td>\n",
       "      <td>Rue Bonaparte</td>\n",
       "      <td>4071</td>\n",
       "      <td>Trafic</td>\n",
       "      <td>NO2</td>\n",
       "      <td>8</td>\n",
       "      <td>73,000000000000000</td>\n",
       "      <td>ug.m-3</td>\n",
       "      <td>horaire</td>\n",
       "      <td>18/09/2017</td>\n",
       "      <td>18/09/2017</td>\n",
       "      <td>1</td>\n",
       "      <td>651166</td>\n",
       "      <td>6862011</td>\n",
       "    </tr>\n",
       "    <tr>\n",
       "      <th>1</th>\n",
       "      <td>2</td>\n",
       "      <td>PARIS</td>\n",
       "      <td>PARIS-6E-ARRONDISSEMENT</td>\n",
       "      <td>75106</td>\n",
       "      <td>Rue Bonaparte</td>\n",
       "      <td>4071</td>\n",
       "      <td>Trafic</td>\n",
       "      <td>NO2</td>\n",
       "      <td>8</td>\n",
       "      <td>57,000000000000000</td>\n",
       "      <td>ug.m-3</td>\n",
       "      <td>horaire</td>\n",
       "      <td>18/09/2017</td>\n",
       "      <td>18/09/2017</td>\n",
       "      <td>1</td>\n",
       "      <td>651166</td>\n",
       "      <td>6862011</td>\n",
       "    </tr>\n",
       "    <tr>\n",
       "      <th>2</th>\n",
       "      <td>3</td>\n",
       "      <td>PARIS</td>\n",
       "      <td>PARIS-6E-ARRONDISSEMENT</td>\n",
       "      <td>75106</td>\n",
       "      <td>Rue Bonaparte</td>\n",
       "      <td>4071</td>\n",
       "      <td>Trafic</td>\n",
       "      <td>NO2</td>\n",
       "      <td>8</td>\n",
       "      <td>65,000000000000000</td>\n",
       "      <td>ug.m-3</td>\n",
       "      <td>horaire</td>\n",
       "      <td>18/09/2017</td>\n",
       "      <td>18/09/2017</td>\n",
       "      <td>1</td>\n",
       "      <td>651166</td>\n",
       "      <td>6862011</td>\n",
       "    </tr>\n",
       "    <tr>\n",
       "      <th>3</th>\n",
       "      <td>4</td>\n",
       "      <td>PARIS</td>\n",
       "      <td>PARIS-6E-ARRONDISSEMENT</td>\n",
       "      <td>75106</td>\n",
       "      <td>Rue Bonaparte</td>\n",
       "      <td>4071</td>\n",
       "      <td>Trafic</td>\n",
       "      <td>NO2</td>\n",
       "      <td>8</td>\n",
       "      <td>81,000000000000000</td>\n",
       "      <td>ug.m-3</td>\n",
       "      <td>horaire</td>\n",
       "      <td>18/09/2017</td>\n",
       "      <td>18/09/2017</td>\n",
       "      <td>1</td>\n",
       "      <td>651166</td>\n",
       "      <td>6862011</td>\n",
       "    </tr>\n",
       "    <tr>\n",
       "      <th>4</th>\n",
       "      <td>5</td>\n",
       "      <td>PARIS</td>\n",
       "      <td>PARIS-6E-ARRONDISSEMENT</td>\n",
       "      <td>75106</td>\n",
       "      <td>Rue Bonaparte</td>\n",
       "      <td>4071</td>\n",
       "      <td>Trafic</td>\n",
       "      <td>NO2</td>\n",
       "      <td>8</td>\n",
       "      <td>74,000000000000000</td>\n",
       "      <td>ug.m-3</td>\n",
       "      <td>horaire</td>\n",
       "      <td>18/09/2017</td>\n",
       "      <td>18/09/2017</td>\n",
       "      <td>1</td>\n",
       "      <td>651166</td>\n",
       "      <td>6862011</td>\n",
       "    </tr>\n",
       "  </tbody>\n",
       "</table>\n",
       "</div>"
      ],
      "text/plain": [
       "   id nom_dept                  nom_com  id_com     nom_statio  code_stati  \\\n",
       "0   1    PARIS  PARIS-6E-ARRONDISSEMENT   75106  Rue Bonaparte        4071   \n",
       "1   2    PARIS  PARIS-6E-ARRONDISSEMENT   75106  Rue Bonaparte        4071   \n",
       "2   3    PARIS  PARIS-6E-ARRONDISSEMENT   75106  Rue Bonaparte        4071   \n",
       "3   4    PARIS  PARIS-6E-ARRONDISSEMENT   75106  Rue Bonaparte        4071   \n",
       "4   5    PARIS  PARIS-6E-ARRONDISSEMENT   75106  Rue Bonaparte        4071   \n",
       "\n",
       "  typologie nom_poll  id_poll_ue              valeur   unite metrique  \\\n",
       "0    Trafic      NO2           8  73,000000000000000  ug.m-3  horaire   \n",
       "1    Trafic      NO2           8  57,000000000000000  ug.m-3  horaire   \n",
       "2    Trafic      NO2           8  65,000000000000000  ug.m-3  horaire   \n",
       "3    Trafic      NO2           8  81,000000000000000  ug.m-3  horaire   \n",
       "4    Trafic      NO2           8  74,000000000000000  ug.m-3  horaire   \n",
       "\n",
       "   date_debut    date_fin  statut_val       x        y  \n",
       "0  18/09/2017  18/09/2017           1  651166  6862011  \n",
       "1  18/09/2017  18/09/2017           1  651166  6862011  \n",
       "2  18/09/2017  18/09/2017           1  651166  6862011  \n",
       "3  18/09/2017  18/09/2017           1  651166  6862011  \n",
       "4  18/09/2017  18/09/2017           1  651166  6862011  "
      ]
     },
     "execution_count": 4,
     "metadata": {},
     "output_type": "execute_result"
    }
   ],
   "source": [
    "file.head()"
   ]
  },
  {
   "cell_type": "code",
   "execution_count": 22,
   "metadata": {},
   "outputs": [
    {
     "data": {
      "text/html": [
       "<div>\n",
       "<style scoped>\n",
       "    .dataframe tbody tr th:only-of-type {\n",
       "        vertical-align: middle;\n",
       "    }\n",
       "\n",
       "    .dataframe tbody tr th {\n",
       "        vertical-align: top;\n",
       "    }\n",
       "\n",
       "    .dataframe thead th {\n",
       "        text-align: right;\n",
       "    }\n",
       "</style>\n",
       "<table border=\"1\" class=\"dataframe\">\n",
       "  <thead>\n",
       "    <tr style=\"text-align: right;\">\n",
       "      <th></th>\n",
       "      <th>nom_dept</th>\n",
       "      <th>nom_com</th>\n",
       "      <th>id_com</th>\n",
       "      <th>valeur</th>\n",
       "      <th>date_debut</th>\n",
       "      <th>date_fin</th>\n",
       "    </tr>\n",
       "  </thead>\n",
       "  <tbody>\n",
       "    <tr>\n",
       "      <th>0</th>\n",
       "      <td>PARIS</td>\n",
       "      <td>PARIS-6E-ARRONDISSEMENT</td>\n",
       "      <td>75106</td>\n",
       "      <td>73,000000000000000</td>\n",
       "      <td>18/09/2017</td>\n",
       "      <td>18/09/2017</td>\n",
       "    </tr>\n",
       "    <tr>\n",
       "      <th>1</th>\n",
       "      <td>PARIS</td>\n",
       "      <td>PARIS-6E-ARRONDISSEMENT</td>\n",
       "      <td>75106</td>\n",
       "      <td>57,000000000000000</td>\n",
       "      <td>18/09/2017</td>\n",
       "      <td>18/09/2017</td>\n",
       "    </tr>\n",
       "    <tr>\n",
       "      <th>2</th>\n",
       "      <td>PARIS</td>\n",
       "      <td>PARIS-6E-ARRONDISSEMENT</td>\n",
       "      <td>75106</td>\n",
       "      <td>65,000000000000000</td>\n",
       "      <td>18/09/2017</td>\n",
       "      <td>18/09/2017</td>\n",
       "    </tr>\n",
       "    <tr>\n",
       "      <th>3</th>\n",
       "      <td>PARIS</td>\n",
       "      <td>PARIS-6E-ARRONDISSEMENT</td>\n",
       "      <td>75106</td>\n",
       "      <td>81,000000000000000</td>\n",
       "      <td>18/09/2017</td>\n",
       "      <td>18/09/2017</td>\n",
       "    </tr>\n",
       "    <tr>\n",
       "      <th>4</th>\n",
       "      <td>PARIS</td>\n",
       "      <td>PARIS-6E-ARRONDISSEMENT</td>\n",
       "      <td>75106</td>\n",
       "      <td>74,000000000000000</td>\n",
       "      <td>18/09/2017</td>\n",
       "      <td>18/09/2017</td>\n",
       "    </tr>\n",
       "  </tbody>\n",
       "</table>\n",
       "</div>"
      ],
      "text/plain": [
       "  nom_dept                  nom_com  id_com              valeur  date_debut  \\\n",
       "0    PARIS  PARIS-6E-ARRONDISSEMENT   75106  73,000000000000000  18/09/2017   \n",
       "1    PARIS  PARIS-6E-ARRONDISSEMENT   75106  57,000000000000000  18/09/2017   \n",
       "2    PARIS  PARIS-6E-ARRONDISSEMENT   75106  65,000000000000000  18/09/2017   \n",
       "3    PARIS  PARIS-6E-ARRONDISSEMENT   75106  81,000000000000000  18/09/2017   \n",
       "4    PARIS  PARIS-6E-ARRONDISSEMENT   75106  74,000000000000000  18/09/2017   \n",
       "\n",
       "     date_fin  \n",
       "0  18/09/2017  \n",
       "1  18/09/2017  \n",
       "2  18/09/2017  \n",
       "3  18/09/2017  \n",
       "4  18/09/2017  "
      ]
     },
     "execution_count": 22,
     "metadata": {},
     "output_type": "execute_result"
    }
   ],
   "source": [
    "file_no2=file[[\"nom_dept\",\"nom_com\",\"id_com\",\"valeur\",\"date_debut\",\"date_fin\"]]\n",
    "file_no2.head()"
   ]
  },
  {
   "cell_type": "code",
   "execution_count": 23,
   "metadata": {},
   "outputs": [
    {
     "data": {
      "text/plain": [
       "78646    26727\n",
       "94081    26465\n",
       "77258    26458\n",
       "95088    26404\n",
       "95277    26404\n",
       "93073    26384\n",
       "95633    26332\n",
       "95612    26308\n",
       "92036    26239\n",
       "75106    26116\n",
       "75112    25930\n",
       "91228    25784\n",
       "93066    25559\n",
       "75115    24715\n",
       "75102    24705\n",
       "75104    16770\n",
       "Name: id_com, dtype: int64"
      ]
     },
     "execution_count": 23,
     "metadata": {},
     "output_type": "execute_result"
    }
   ],
   "source": [
    "file_no2[\"id_com\"].value_counts()"
   ]
  },
  {
   "cell_type": "code",
   "execution_count": 15,
   "metadata": {},
   "outputs": [
    {
     "data": {
      "text/plain": [
       "PARIS                118236\n",
       "VAL-D'OISE           105448\n",
       "SEINE-SAINT-DENIS     51943\n",
       "YVELINES              26727\n",
       "VAL-DE-MARNE          26465\n",
       "SEINE-ET-MARNE        26458\n",
       "HAUTS-DE-SEINE        26239\n",
       "ESSONNE               25784\n",
       "Name: nom_dept, dtype: int64"
      ]
     },
     "execution_count": 15,
     "metadata": {},
     "output_type": "execute_result"
    }
   ],
   "source": [
    "file_no2[\"nom_dept\"].value_counts()"
   ]
  },
  {
   "cell_type": "code",
   "execution_count": 16,
   "metadata": {},
   "outputs": [],
   "source": [
    "file_no2=file_no2[file_no2[\"nom_dept\"]==\"PARIS\"]"
   ]
  },
  {
   "cell_type": "code",
   "execution_count": 19,
   "metadata": {},
   "outputs": [
    {
     "data": {
      "text/plain": [
       "PARIS    118236\n",
       "Name: nom_dept, dtype: int64"
      ]
     },
     "execution_count": 19,
     "metadata": {},
     "output_type": "execute_result"
    }
   ],
   "source": [
    "file_no2[\"nom_dept\"].value_counts()"
   ]
  },
  {
   "cell_type": "code",
   "execution_count": 21,
   "metadata": {},
   "outputs": [
    {
     "data": {
      "text/plain": [
       "75106    26116\n",
       "75112    25930\n",
       "75115    24715\n",
       "75102    24705\n",
       "75104    16770\n",
       "Name: id_com, dtype: int64"
      ]
     },
     "execution_count": 21,
     "metadata": {},
     "output_type": "execute_result"
    }
   ],
   "source": [
    "file_no2[\"id_com\"].value_counts()"
   ]
  },
  {
   "cell_type": "code",
   "execution_count": null,
   "metadata": {},
   "outputs": [],
   "source": []
  }
 ],
 "metadata": {
  "kernelspec": {
   "display_name": "Python 3",
   "language": "python",
   "name": "python3"
  },
  "language_info": {
   "codemirror_mode": {
    "name": "ipython",
    "version": 3
   },
   "file_extension": ".py",
   "mimetype": "text/x-python",
   "name": "python",
   "nbconvert_exporter": "python",
   "pygments_lexer": "ipython3",
   "version": "3.8.3"
  }
 },
 "nbformat": 4,
 "nbformat_minor": 4
}
